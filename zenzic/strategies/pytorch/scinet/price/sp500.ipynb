{
 "cells": [
  {
   "cell_type": "code",
   "execution_count": 17,
   "id": "7811b96a",
   "metadata": {},
   "outputs": [],
   "source": [
    "import sys\n",
    "import pickle\n",
    "import numpy as np\n",
    "sys.path.append(r'C:\\Users\\xzhu\\Documents\\GitHub\\trading')\n"
   ]
  },
  {
   "cell_type": "code",
   "execution_count": 2,
   "id": "0362b898",
   "metadata": {},
   "outputs": [],
   "source": [
    "%load_ext autoreload\n",
    "%autoreload 2\n",
    "\n",
    "from zenzic.strategies.pytorch.scinet.price.sp500 import HistPrices"
   ]
  },
  {
   "cell_type": "code",
   "execution_count": 3,
   "id": "8637a8a3",
   "metadata": {},
   "outputs": [],
   "source": [
    "class Configs(dict):\n",
    "    pass\n",
    "\n",
    "args = Configs()\n",
    "args.seq_len = 256\n",
    "args.pred_len = 24\n",
    "args.start = '2018-01-01'\n",
    "args.end = '2023-02-20'\n"
   ]
  },
  {
   "cell_type": "code",
   "execution_count": 4,
   "id": "98d9da70",
   "metadata": {},
   "outputs": [],
   "source": [
    "fname = r'C:\\Trading\\Prices\\SP500\\2023-02-20\\vali-data.pkl'\n",
    "d = None\n",
    "with open(fname, 'rb') as f:\n",
    "    d = pickle.load(f)\n"
   ]
  },
  {
   "cell_type": "code",
   "execution_count": 40,
   "id": "3d886e5d",
   "metadata": {},
   "outputs": [],
   "source": [
    "b = tuple(zip(*d[-2:]))\n"
   ]
  },
  {
   "cell_type": "code",
   "execution_count": 42,
   "id": "5ce368fd",
   "metadata": {},
   "outputs": [
    {
     "data": {
      "text/plain": [
       "(array([[ 213.40865,  218.43982,  211.57643,  215.33   , 4696.05   ],\n",
       "        [ 215.04192,  215.32913,  208.75298,  209.06   , 4677.03   ],\n",
       "        [ 206.12299,  210.56   ,  204.1818 ,  210.56   , 4670.29   ],\n",
       "        ...,\n",
       "        [ 146.7669 ,  154.32922,  146.7669 ,  154.     , 3919.25   ],\n",
       "        [ 155.63445,  158.18845,  154.56696,  157.53   , 3969.61   ],\n",
       "        [ 157.22537,  160.08873,  156.44717,  159.54   , 3983.17   ]],\n",
       "       dtype=float32),\n",
       " array([[ 215.04192,  215.32913,  208.75298,  209.06   , 4677.03   ],\n",
       "        [ 206.12299,  210.56   ,  204.1818 ,  210.56   , 4670.29   ],\n",
       "        [ 209.9577 ,  211.09663,  206.23393,  210.75   , 4713.07   ],\n",
       "        ...,\n",
       "        [ 155.63445,  158.18845,  154.56696,  157.53   , 3969.61   ],\n",
       "        [ 157.22537,  160.08873,  156.44717,  159.54   , 3983.17   ],\n",
       "        [ 158.20552,  161.01886,  158.006  ,  160.54   , 3999.09   ]],\n",
       "       dtype=float32))"
      ]
     },
     "execution_count": 42,
     "metadata": {},
     "output_type": "execute_result"
    }
   ],
   "source": [
    "b[0]"
   ]
  }
 ],
 "metadata": {
  "kernelspec": {
   "display_name": "pytorch",
   "language": "python",
   "name": "python3"
  },
  "language_info": {
   "codemirror_mode": {
    "name": "ipython",
    "version": 3
   },
   "file_extension": ".py",
   "mimetype": "text/x-python",
   "name": "python",
   "nbconvert_exporter": "python",
   "pygments_lexer": "ipython3",
   "version": "3.8.12"
  },
  "vscode": {
   "interpreter": {
    "hash": "a8c9e9e4c5a0dddab3e05287d714d37a6b62d14c7b19b2e9a8d73ed240694856"
   }
  }
 },
 "nbformat": 4,
 "nbformat_minor": 5
}
