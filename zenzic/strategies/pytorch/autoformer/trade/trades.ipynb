{
 "cells": [
  {
   "cell_type": "code",
   "execution_count": 1,
   "id": "7811b96a",
   "metadata": {},
   "outputs": [],
   "source": [
    "import sys\n",
    "sys.path.append(r'C:\\Users\\xzhu\\Documents\\GitHub\\trading')\n",
    "\n",
    "import pandas as pd\n",
    "import numpy as np\n",
    "import datetime\n",
    "import math\n",
    "from pytorch_forecasting import TimeSeriesDataSet\n",
    "from zenzic.data.watchlist import SP500\n",
    "\n",
    "import pytorch_lightning as pl\n",
    "from pytorch_lightning.callbacks import EarlyStopping, LearningRateMonitor\n",
    "from pytorch_lightning.loggers import TensorBoardLogger\n",
    "import torch\n",
    "\n",
    "from pytorch_forecasting import Baseline, TemporalFusionTransformer, TimeSeriesDataSet\n",
    "from pytorch_forecasting.data import GroupNormalizer\n",
    "from pytorch_forecasting.metrics import SMAPE, PoissonLoss, QuantileLoss\n",
    "from pytorch_forecasting.models.temporal_fusion_transformer.tuning import optimize_hyperparameters\n",
    "from pytorch_forecasting.data.encoders import TorchNormalizer\n",
    "from madgrad import MADGRAD"
   ]
  },
  {
   "cell_type": "code",
   "execution_count": 2,
   "id": "0362b898",
   "metadata": {},
   "outputs": [],
   "source": [
    "%load_ext autoreload\n",
    "%autoreload 2\n",
    "\n",
    "from zenzic.strategies.pytorch.data.trades import load_wl_trades, load_quotes, Dataset\n",
    "from zenzic.strategies.pytorch.data.utils import load_hist_quotes\n",
    "from zenzic.strategies.pytorch.autoformer.trade.models import AEoT, AoT"
   ]
  },
  {
   "cell_type": "code",
   "execution_count": 3,
   "id": "2b39ab8a",
   "metadata": {},
   "outputs": [],
   "source": [
    "train = Dataset(r'C:\\Trading\\CCI-RSI\\2022-02-11\\samples.pkl', 'train', 256)"
   ]
  },
  {
   "cell_type": "code",
   "execution_count": 30,
   "id": "00998978",
   "metadata": {},
   "outputs": [
    {
     "data": {
      "text/plain": [
       "torch.Size([16])"
      ]
     },
     "execution_count": 30,
     "metadata": {},
     "output_type": "execute_result"
    }
   ],
   "source": [
    "class Configs(dict):\n",
    "    pass\n",
    "\n",
    "configs = Configs()\n",
    "configs.seq_len = 256\n",
    "configs.output_attention = False\n",
    "configs.enc_in = 4\n",
    "configs.d_model = 1024\n",
    "configs.embed = 'timeF'\n",
    "configs.freq = 'd'\n",
    "configs.dropout = 0.3\n",
    "configs.e_layers = 2\n",
    "configs.factor = 4\n",
    "configs.n_heads = 3\n",
    "configs.d_ff = 389\n",
    "configs.moving_avg = 21 # must be odd number.\n",
    "configs.activation = 'gelu'\n",
    "configs.learning_rate = 1e-3\n",
    "\n",
    "m = AEoT(configs)\n",
    "x = []\n",
    "x_time_enc = []\n",
    "y = []\n",
    "for i in range(0, 16):\n",
    "    a, b, c, _ = train[i]\n",
    "    x.append(np.float32(a))\n",
    "    x_time_enc.append(np.float32(b))\n",
    "    y.append(np.float32(c))\n",
    "x = np.array(x)\n",
    "x_time_enc = np.array(x_time_enc)\n",
    "y = np.array(y)\n",
    "m(torch.from_numpy(x), torch.from_numpy(x_time_enc)).shape\n",
    "\n"
   ]
  },
  {
   "cell_type": "code",
   "execution_count": 31,
   "id": "36162f5e",
   "metadata": {},
   "outputs": [
    {
     "data": {
      "text/plain": [
       "torch.Size([16])"
      ]
     },
     "execution_count": 31,
     "metadata": {},
     "output_type": "execute_result"
    }
   ],
   "source": [
    "class Configs(dict):\n",
    "    pass\n",
    "\n",
    "configs = Configs()\n",
    "configs.seq_len = 256\n",
    "configs.output_attention = False\n",
    "configs.enc_in = 4\n",
    "configs.d_model = 1024\n",
    "configs.embed = 'timeF'\n",
    "configs.freq = 'd'\n",
    "configs.dropout = 0.3\n",
    "configs.e_layers = 2\n",
    "configs.factor = 4\n",
    "configs.n_heads = 3\n",
    "configs.d_ff = 389\n",
    "configs.moving_avg = 21 # must be odd number.\n",
    "configs.activation = 'gelu'\n",
    "configs.label_len = 64\n",
    "configs.pred_len = 1\n",
    "configs.dec_in = 4\n",
    "configs.d_layers = 1\n",
    "configs.c_out = 4\n",
    "configs.learning_rate = 1e-3\n",
    "\n",
    "m = AoT(configs)\n",
    "x = []\n",
    "x_time_enc = []\n",
    "y = []\n",
    "y_time_enc = []\n",
    "for i in range(0, 16):\n",
    "    a, b, c, d = train[i]\n",
    "    x.append(np.float32(a))\n",
    "    x_time_enc.append(np.float32(b))\n",
    "    y.append(np.float32(c))\n",
    "    y_time_enc.append(np.float32(d))\n",
    "x = np.array(x)\n",
    "x_time_enc = np.array(x_time_enc)\n",
    "y = np.array(y)\n",
    "y_time_enc = np.array(y_time_enc)\n",
    "m(torch.from_numpy(x), torch.from_numpy(x_time_enc), torch.from_numpy(y_time_enc)).shape"
   ]
  }
 ],
 "metadata": {
  "interpreter": {
   "hash": "f38e2aa8a8b03d6974a44e7e1a228e00fab59178e958adcb91d243b1e30ae2cd"
  },
  "kernelspec": {
   "display_name": "Python 3.8.12 64-bit ('pytorch': conda)",
   "language": "python",
   "name": "python3"
  },
  "language_info": {
   "codemirror_mode": {
    "name": "ipython",
    "version": 3
   },
   "file_extension": ".py",
   "mimetype": "text/x-python",
   "name": "python",
   "nbconvert_exporter": "python",
   "pygments_lexer": "ipython3",
   "version": "3.8.12"
  }
 },
 "nbformat": 4,
 "nbformat_minor": 5
}
