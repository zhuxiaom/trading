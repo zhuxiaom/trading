{
 "cells": [
  {
   "cell_type": "code",
   "execution_count": null,
   "metadata": {},
   "outputs": [],
   "source": [
    "import sys\n",
    "sys.path.append(r'C:\\Users\\xzhu\\Documents\\GitHub\\trading')\n",
    "\n",
    "import numpy as np\n",
    "import torch\n",
    "import kymatio.numpy as kyn\n",
    "from kymatio.torch import Scattering1D\n",
    "from argparse import ArgumentParser"
   ]
  },
  {
   "cell_type": "code",
   "execution_count": null,
   "id": "1c3c2e40",
   "metadata": {},
   "outputs": [],
   "source": [
    "x = np.random.rand(64, 4, 168)\n",
    "T = x.shape[-1]\n",
    "J = 5\n",
    "Q = 8"
   ]
  },
  {
   "cell_type": "code",
   "execution_count": null,
   "id": "10cfa459",
   "metadata": {},
   "outputs": [],
   "source": [
    "x = np.random.rand(64, 4, 168)\n",
    "kyn.Scattering1D(J, T, Q)(x).shape\n"
   ]
  },
  {
   "cell_type": "code",
   "execution_count": null,
   "id": "25e331d3",
   "metadata": {},
   "outputs": [],
   "source": [
    "%load_ext autoreload\n",
    "%autoreload 2\n",
    "\n",
    "from zenzic.strategies.pytorch.data.trades import load_wl_trades, load_quotes, Dataset\n",
    "from zenzic.strategies.pytorch.data.utils import load_hist_quotes\n",
    "from zenzic.strategies.pytorch.scattering.trade.models import SViT"
   ]
  },
  {
   "cell_type": "code",
   "execution_count": null,
   "id": "aeb0d52e",
   "metadata": {},
   "outputs": [],
   "source": [
    "train = Dataset(r'C:\\Trading\\CCI-RSI\\2022-02-11\\samples.pkl', 'train', 256, channel_first=True)\n",
    "train[0][0].shape"
   ]
  },
  {
   "cell_type": "code",
   "execution_count": null,
   "id": "102a963d",
   "metadata": {},
   "outputs": [],
   "source": [
    "class Configs(dict):\n",
    "    pass\n",
    "cfgs = Configs()\n",
    "cfgs.seq_len = 256\n",
    "cfgs.num_of_signals = 4\n",
    "cfgs.time_scale = 21\n",
    "cfgs.spatial_scale = 4\n",
    "cfgs.vit_dim = 1024\n",
    "cfgs.vit_depth = 6\n",
    "cfgs.vit_heads = 8\n",
    "cfgs.vit_mlp_dim = 2048\n",
    "cfgs.vit_dim_head = 64\n",
    "cfgs.learning_rate = 1e-5\n",
    "cfgs.lr_patience = 6\n",
    "\n",
    "m = SViT(cfgs)\n",
    "x = []\n",
    "x_time_enc = []\n",
    "y = []\n",
    "for i in range(0, 16):\n",
    "    a, b, c, _ = train[i]\n",
    "    x.append(np.float32(a))\n",
    "    x_time_enc.append(np.float32(b))\n",
    "    y.append(np.float32(c))\n",
    "x = np.array(x)\n",
    "x_time_enc = np.array(x_time_enc)\n",
    "y = np.array(y)\n",
    "m(torch.from_numpy(x), torch.from_numpy(x_time_enc)).shape\n",
    "\n"
   ]
  }
 ],
 "metadata": {
  "interpreter": {
   "hash": "a8c9e9e4c5a0dddab3e05287d714d37a6b62d14c7b19b2e9a8d73ed240694856"
  },
  "kernelspec": {
   "display_name": "Python 3.8.12 ('pytorch')",
   "language": "python",
   "name": "python3"
  },
  "language_info": {
   "codemirror_mode": {
    "name": "ipython",
    "version": 3
   },
   "file_extension": ".py",
   "mimetype": "text/x-python",
   "name": "python",
   "nbconvert_exporter": "python",
   "pygments_lexer": "ipython3",
   "version": "3.8.12"
  }
 },
 "nbformat": 4,
 "nbformat_minor": 5
}
