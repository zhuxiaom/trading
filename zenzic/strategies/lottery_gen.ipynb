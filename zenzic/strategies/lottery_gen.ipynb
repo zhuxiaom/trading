{
 "cells": [
  {
   "cell_type": "code",
   "execution_count": 1,
   "metadata": {},
   "outputs": [],
   "source": [
    "import numpy as np\n",
    "import time\n",
    "import math\n",
    "import pymysql as mysql\n",
    "\n",
    "np.random.seed(int(time.time()))"
   ]
  },
  {
   "cell_type": "code",
   "execution_count": 2,
   "metadata": {},
   "outputs": [],
   "source": [
    "def adjust_weights(weights, prev_draw, pick_most_freq=True):\n",
    "    ratio = (1 + np.sqrt(5)) / 2 - 1\n",
    "    new_weights = weights.copy()\n",
    "    indices = np.array(prev_draw) - 1\n",
    "    if not pick_most_freq:\n",
    "        # Update the weight of numbers taht are NOT in previous draw.\n",
    "        indices = np.delete(np.arange(len(weights)), indices)\n",
    "    new_weights[indices] = new_weights[indices] + 1\n",
    "    return new_weights\n",
    "\n",
    "def load_history(lottery, latest_n=0):\n",
    "    hist = []\n",
    "    conn = mysql.connect(read_default_file=\"~/my.cnf\")\n",
    "    cursor = conn.cursor()\n",
    "    sql = \"SELECT draw_date, pick_5, pick_1 FROM lottery_draws WHERE lottery = %s ORDER BY draw_date DESC\"\n",
    "    if latest_n > 0:\n",
    "        sql += \" LIMIT \" + str(latest_n)\n",
    "    cursor.execute(sql, (lottery))\n",
    "    for row in cursor.fetchall():\n",
    "        hist.append({\"pick_5\": [int(n) for n in row[1].split(\",\")], \"pick_1\": [int(row[2])]})\n",
    "    hist.reverse()\n",
    "    return hist\n",
    "\n",
    "def pick_lotteries(total_num, pick_5_max, pick_1_max, pick_most_freq=True, prev_draws=[]):\n",
    "    pick_5_choices = np.array([i+1 for i in range(pick_5_max)])\n",
    "    pick_5_weights = np.array([1.0 for _ in range(pick_5_max)])\n",
    "    pick_1_choices = np.array([i+1 for i in range(pick_1_max)])\n",
    "    pick_1_weights = np.array([1.0 for _ in range(pick_1_max)])\n",
    "    picks = []\n",
    "    \n",
    "    for p in prev_draws:\n",
    "        pick_5_weights = adjust_weights(pick_5_weights, p['pick_5'], pick_most_freq=pick_most_freq)\n",
    "        pick_1_weights = adjust_weights(pick_1_weights, p['pick_1'], pick_most_freq=pick_most_freq)\n",
    "    print(\"Pick 5 Var/Mean Ratio:\", pick_5_weights.var() / pick_5_weights.mean())\n",
    "    print(\"Pick 1 Var/Mean Ratio:\", pick_1_weights.var() / pick_1_weights.mean())\n",
    "    \n",
    "    for i in range(total_num):\n",
    "        prob = pick_5_weights / np.sum(pick_5_weights)\n",
    "        pick_5 = np.random.choice(pick_5_choices, size=5, replace=False, p=prob)\n",
    "        pick_5.sort()\n",
    "\n",
    "        prob = pick_1_weights / np.sum(pick_1_weights)\n",
    "        pick_1 = np.random.choice(pick_1_choices, size=1, p=prob)\n",
    "        picks.append([pick_5.tolist(), pick_1.tolist()])\n",
    "    return picks"
   ]
  },
  {
   "cell_type": "code",
   "execution_count": 12,
   "metadata": {},
   "outputs": [
    {
     "name": "stdout",
     "output_type": "stream",
     "text": [
      "Pick 5 Var/Mean Ratio: 0.8598639455782313\n",
      "Pick 1 Var/Mean Ratio: 0.48524590163934433\n",
      "\n",
      "Mega Million lottery tickets\n",
      "13 30 43 48 60 | 17\n",
      "17 20 45 46 60 | 15\n",
      "10 12 34 48 62 | 13\n",
      " 7 12 35 62 70 | 16\n",
      "14 49 56 66 67 | 13\n"
     ]
    }
   ],
   "source": [
    "TOTAL_NUM = 5\n",
    "PICK_5_MAX = 70\n",
    "PICK_1_MAX = 25\n",
    "hist = load_history(\"MM\", latest_n=4*PICK_5_MAX)\n",
    "picks = pick_lotteries(TOTAL_NUM, PICK_5_MAX, PICK_1_MAX, pick_most_freq=True, prev_draws=hist)\n",
    "\n",
    "print(\"\\nMega Million lottery tickets\")\n",
    "for p in picks:\n",
    "    print(\" \".join([\"{:2d}\".format(n) for n in p[0]]), \"|\", \"{:2d}\".format(p[1][0]))"
   ]
  },
  {
   "cell_type": "code",
   "execution_count": 13,
   "metadata": {},
   "outputs": [
    {
     "name": "stdout",
     "output_type": "stream",
     "text": [
      "Pick 5 Var/Mean Ratio: 0.8900671615411806\n",
      "Pick 1 Var/Mean Ratio: 0.7000266169816344\n",
      "\n",
      "Power Ball lottery tickets\n",
      " 7 26 27 59 66 |  9\n",
      " 1  2 23 44 61 | 24\n",
      "18 30 47 51 59 | 10\n",
      "28 37 48 49 64 | 24\n",
      " 5 37 43 48 55 | 21\n"
     ]
    }
   ],
   "source": [
    "TOTAL_NUM = 5\n",
    "PICK_5_MAX = 69\n",
    "PICK_1_MAX = 26\n",
    "hist = load_history(\"PB\", latest_n=8*PICK_5_MAX)\n",
    "picks = pick_lotteries(TOTAL_NUM, PICK_5_MAX, PICK_1_MAX, pick_most_freq=True, prev_draws=hist)\n",
    "\n",
    "print(\"\\nPower Ball lottery tickets\")\n",
    "for p in picks:\n",
    "    print(\" \".join([\"{:2d}\".format(n) for n in p[0]]), \"|\", \"{:2d}\".format(p[1][0]))"
   ]
  },
  {
   "cell_type": "code",
   "execution_count": 9,
   "metadata": {},
   "outputs": [
    {
     "name": "stdout",
     "output_type": "stream",
     "text": [
      "Pick 5 Var/Mean Ratio: 0.7465767853381082\n",
      "Pick 1 Var/Mean Ratio: 1.2410279980083496\n",
      "\n",
      "California Super Lotto Plus lottery tickets\n",
      " 9 11 13 16 47 | 12\n",
      " 1  5  7 25 38 | 15\n",
      "11 22 24 37 46 | 18\n",
      " 9 17 22 31 40 | 25\n",
      " 1  4  7 32 37 |  3\n"
     ]
    }
   ],
   "source": [
    "TOTAL_NUM = 5\n",
    "PICK_5_MAX = 47\n",
    "PICK_1_MAX = 27\n",
    "hist = load_history(\"CA/SLP\", latest_n=20*PICK_5_MAX)\n",
    "picks = pick_lotteries(TOTAL_NUM, PICK_5_MAX, PICK_1_MAX, pick_most_freq=True, prev_draws=hist)\n",
    "\n",
    "print(\"\\nCalifornia Super Lotto Plus lottery tickets\")\n",
    "for p in picks:\n",
    "    print(\" \".join([\"{:2d}\".format(n) for n in p[0]]), \"|\", \"{:2d}\".format(p[1][0]))"
   ]
  },
  {
   "cell_type": "code",
   "execution_count": null,
   "metadata": {},
   "outputs": [],
   "source": []
  }
 ],
 "metadata": {
  "kernelspec": {
   "display_name": "Python 3",
   "language": "python",
   "name": "python3"
  },
  "language_info": {
   "codemirror_mode": {
    "name": "ipython",
    "version": 3
   },
   "file_extension": ".py",
   "mimetype": "text/x-python",
   "name": "python",
   "nbconvert_exporter": "python",
   "pygments_lexer": "ipython3",
   "version": "3.7.9"
  }
 },
 "nbformat": 4,
 "nbformat_minor": 4
}
